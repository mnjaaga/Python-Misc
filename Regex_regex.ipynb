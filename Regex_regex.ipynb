{
  "nbformat": 4,
  "nbformat_minor": 0,
  "metadata": {
    "kernelspec": {
      "display_name": "Python 3",
      "language": "python",
      "name": "python3"
    },
    "language_info": {
      "codemirror_mode": {
        "name": "ipython",
        "version": 3
      },
      "file_extension": ".py",
      "mimetype": "text/x-python",
      "name": "python",
      "nbconvert_exporter": "python",
      "pygments_lexer": "ipython3",
      "version": "3.8.5"
    },
    "colab": {
      "name": "Regex_regex.ipynb",
      "provenance": [],
      "collapsed_sections": [
        "mrsA-cxVZNkp",
        "vqQvSW_rZNkr",
        "p0MllxT2ZNle"
      ],
      "toc_visible": true,
      "include_colab_link": true
    }
  },
  "cells": [
    {
      "cell_type": "markdown",
      "metadata": {
        "id": "view-in-github",
        "colab_type": "text"
      },
      "source": [
        "<a href=\"https://colab.research.google.com/github/mnjaaga/Python-Misc/blob/main/Regex_regex.ipynb\" target=\"_parent\"><img src=\"https://colab.research.google.com/assets/colab-badge.svg\" alt=\"Open In Colab\"/></a>"
      ]
    },
    {
      "cell_type": "markdown",
      "metadata": {
        "id": "9zgTQLgDZNkJ"
      },
      "source": [
        "# Regular Expressions"
      ]
    },
    {
      "cell_type": "markdown",
      "metadata": {
        "id": "HFmLOH5NZNkO"
      },
      "source": [
        "### What are regular expressions?\n",
        "A Regular Expression (RegEX), is a sequence of characters that forms a search pattern. RegEx are used in many programming languages, text editors, and other tools as a means of determining whether a string matches a specified pattern.        \n",
        "Common cases where regular expressions are used include:\n",
        "- Search in search engines.\n",
        "- Validation of the format of email addresses, phone numbers or passwords during registration in a web portal.\n",
        "- Manipulation of textual data in data science projects.\n",
        "\n",
        "### Regular Expresssions in Python.\n",
        "In Python, regular expressions are supported by the **re module**.Therefore, to  use regex in python scripts we have to import the module.  as shown below:"
      ]
    },
    {
      "cell_type": "code",
      "metadata": {
        "id": "YD3JPr3kZNkT"
      },
      "source": [
        "import re"
      ],
      "execution_count": null,
      "outputs": []
    },
    {
      "cell_type": "markdown",
      "metadata": {
        "id": "M5n28fACZNkW"
      },
      "source": [
        "This library provides several functions that make it posssible to search a string for a match. Some of the most common ones include:\n",
        "- **re.compile() -**\n",
        "Compiles a regular expression pattern into a regular expression object, which can be used for matching. It is more efficient when the expression will be used several times in a single program.\n",
        "- **re.search() -**\n",
        "Scans through a string looking for the first location where the regular expression pattern produces a match, and returns a corresponding match object. Otherwise, it returns None.\n",
        "- **re.findall() -**\n",
        "Returns all matches of a pattern in a string as a list of strings.\n",
        "- **re.finditer() -**\n",
        "Returns an iterator containing match objects of all matches of a pattern in a string. \n",
        "- **re.sub() -**\n",
        "Returns the string obtained by replacing the occurrences of a pattern in the string by the replacement repl. If the pattern isn’t found, string is returned unchanged.  \n",
        "- **re.split() -**\n",
        "Split string by the occurrences of a specified pattern.      \n",
        "\n",
        "More functions can be found in the [Python Documenation](https://docs.python.org/3/library/re.html)\n"
      ]
    },
    {
      "cell_type": "markdown",
      "metadata": {
        "id": "oJbgTnyxZNkY"
      },
      "source": [
        "### Below is a simple docstring which we shall use regular expressions on."
      ]
    },
    {
      "cell_type": "code",
      "metadata": {
        "id": "7jWGOjqsZNka"
      },
      "source": [
        "text_to_search = '''This is just a simple line of text\n",
        "abcdefghijklmnopqurtuvwxyz\n",
        "abc\n",
        "abcabcabc\n",
        "abcabcabcabcabc\n",
        "ABCDEFGHIJKLMNOPQRSTUVWXYZ\n",
        "I love cats.\n",
        ".com\n",
        "1234567890\n",
        "La LaLa\n",
        ". ^ $ * + ? { } [ ] \\ | ( )\n",
        "This marks the end'''"
      ],
      "execution_count": null,
      "outputs": []
    },
    {
      "cell_type": "markdown",
      "metadata": {
        "id": "mabE3N5rZNkc"
      },
      "source": [
        "#### re.search()\n",
        "\n",
        "We can perform simple regex using literals as illustrated below:"
      ]
    },
    {
      "cell_type": "code",
      "metadata": {
        "id": "_-vdAl-lZNke",
        "colab": {
          "base_uri": "https://localhost:8080/"
        },
        "outputId": "36b1c6e7-ecf8-4a8d-9c8d-78ba4abe99cd"
      },
      "source": [
        "match_object = re.search('ABC', text_to_search) #case sensitive\n",
        "print (match_object)\n"
      ],
      "execution_count": null,
      "outputs": [
        {
          "output_type": "stream",
          "text": [
            "<re.Match object; span=(92, 95), match='ABC'>\n"
          ],
          "name": "stdout"
        }
      ]
    },
    {
      "cell_type": "markdown",
      "metadata": {
        "id": "VDCVfLTVZNkg"
      },
      "source": [
        "This returns an object containing the first occurence of \"abc\"."
      ]
    },
    {
      "cell_type": "code",
      "metadata": {
        "id": "7cbvVCrSZNkh",
        "colab": {
          "base_uri": "https://localhost:8080/"
        },
        "outputId": "9e123543-16a0-4ad1-9a50-a35b8b9d1861"
      },
      "source": [
        "print (text_to_search[92:95])"
      ],
      "execution_count": null,
      "outputs": [
        {
          "output_type": "stream",
          "text": [
            "ABC\n"
          ],
          "name": "stdout"
        }
      ]
    },
    {
      "cell_type": "markdown",
      "metadata": {
        "id": "rYnJo7zIZNkj"
      },
      "source": [
        "#### Working with Match Objects"
      ]
    },
    {
      "cell_type": "markdown",
      "metadata": {
        "id": "bxtggs6ZZNkk"
      },
      "source": [
        "The Match object has properties and methods:\n",
        "\n",
        "- **span() -** returns a tuple containing the start and end positions of the match.\n",
        "- **string -** returns the string passed into the function.\n",
        "- **group() -** returns the part of the string where there was a match"
      ]
    },
    {
      "cell_type": "code",
      "metadata": {
        "id": "AE0oAJyqZNkl",
        "colab": {
          "base_uri": "https://localhost:8080/"
        },
        "outputId": "df5ce9e9-f31e-4ec2-80bb-7e378e30174c"
      },
      "source": [
        "print (f\"{match_object}\\n\")\n",
        "print (f\"The start and end indices: {match_object.span()}\\n\")\n",
        "print (\"The pattern matched: \" + match_object.group() + \"\\n\")\n",
        "print (\"\\tThe entire string: \\n ___________________________________\\n\" + match_object.string)\n"
      ],
      "execution_count": null,
      "outputs": [
        {
          "output_type": "stream",
          "text": [
            "<re.Match object; span=(92, 95), match='ABC'>\n",
            "\n",
            "The start and end indices: (92, 95)\n",
            "\n",
            "The pattern matched: ABC\n",
            "\n",
            "\tThe entire string: \n",
            " ___________________________________\n",
            "This is just a simple line of text\n",
            "abcdefghijklmnopqurtuvwxyz\n",
            "abc\n",
            "abcabcabc\n",
            "abcabcabcabcabc\n",
            "ABCDEFGHIJKLMNOPQRSTUVWXYZ\n",
            "I love cats.\n",
            ".com\n",
            "1234567890\n",
            "La LaLa\n",
            ". ^ $ * + ? { } [ ] \\ | ( )\n",
            "This marks the end\n"
          ],
          "name": "stdout"
        }
      ]
    },
    {
      "cell_type": "markdown",
      "metadata": {
        "id": "qUBSCdW-ZNkn"
      },
      "source": [
        "#### re.compile()"
      ]
    },
    {
      "cell_type": "code",
      "metadata": {
        "id": "cbTHrgt9ZNko"
      },
      "source": [
        "pattern = re.compile(r'abc')"
      ],
      "execution_count": null,
      "outputs": []
    },
    {
      "cell_type": "markdown",
      "metadata": {
        "id": "mrsA-cxVZNkp"
      },
      "source": [
        "#### re.findall()"
      ]
    },
    {
      "cell_type": "code",
      "metadata": {
        "id": "WUGfLMJ-ZNkq",
        "colab": {
          "base_uri": "https://localhost:8080/"
        },
        "outputId": "2c2b724e-20d9-49c7-9666-234c2a247456"
      },
      "source": [
        "letters = pattern.findall(text_to_search)#returns all occurences.\n",
        "for match in letters:\n",
        "    print (match)"
      ],
      "execution_count": null,
      "outputs": [
        {
          "output_type": "stream",
          "text": [
            "abc\n",
            "abc\n",
            "abc\n",
            "abc\n",
            "abc\n",
            "abc\n",
            "abc\n",
            "abc\n",
            "abc\n",
            "abc\n"
          ],
          "name": "stdout"
        }
      ]
    },
    {
      "cell_type": "markdown",
      "metadata": {
        "id": "vqQvSW_rZNkr"
      },
      "source": [
        "#### re.finditer()"
      ]
    },
    {
      "cell_type": "code",
      "metadata": {
        "id": "VLeLXO8yZNks",
        "colab": {
          "base_uri": "https://localhost:8080/"
        },
        "outputId": "e7133106-1521-49f1-8900-cf96c4366a92"
      },
      "source": [
        "letters_object = pattern.finditer(text_to_search)#returns match objects of all occurences.\n",
        "for object in letters_object:\n",
        "    print (object)"
      ],
      "execution_count": null,
      "outputs": [
        {
          "output_type": "stream",
          "text": [
            "<re.Match object; span=(35, 38), match='abc'>\n",
            "<re.Match object; span=(62, 65), match='abc'>\n",
            "<re.Match object; span=(66, 69), match='abc'>\n",
            "<re.Match object; span=(69, 72), match='abc'>\n",
            "<re.Match object; span=(72, 75), match='abc'>\n",
            "<re.Match object; span=(76, 79), match='abc'>\n",
            "<re.Match object; span=(79, 82), match='abc'>\n",
            "<re.Match object; span=(82, 85), match='abc'>\n",
            "<re.Match object; span=(85, 88), match='abc'>\n",
            "<re.Match object; span=(88, 91), match='abc'>\n"
          ],
          "name": "stdout"
        }
      ]
    },
    {
      "cell_type": "markdown",
      "metadata": {
        "id": "XkrVmbtbZNkt"
      },
      "source": [
        "##### re.sub()"
      ]
    },
    {
      "cell_type": "code",
      "metadata": {
        "id": "E-KBE5StZNku",
        "colab": {
          "base_uri": "https://localhost:8080/"
        },
        "outputId": "e2d656e6-7307-454b-8ee5-a411f6874d6e"
      },
      "source": [
        "substitute = re.sub(\"cats\",\"dogs\",text_to_search) #replace the word cats with dogs.\n",
        "print(substitute)"
      ],
      "execution_count": null,
      "outputs": [
        {
          "output_type": "stream",
          "text": [
            "This is just a simple line of text\n",
            "abcdefghijklmnopqurtuvwxyz\n",
            "abc\n",
            "abcabcabc\n",
            "abcabcabcabcabc\n",
            "ABCDEFGHIJKLMNOPQRSTUVWXYZ\n",
            "I love dogs.\n",
            ".com\n",
            "1234567890\n",
            "La LaLa\n",
            ". ^ $ * + ? { } [ ] \\ | ( )\n",
            "This marks the end\n"
          ],
          "name": "stdout"
        }
      ]
    },
    {
      "cell_type": "markdown",
      "metadata": {
        "id": "C36h7EioZNkv"
      },
      "source": [
        "##### re.split()"
      ]
    },
    {
      "cell_type": "code",
      "metadata": {
        "id": "Fr1jxQtKZNkw",
        "colab": {
          "base_uri": "https://localhost:8080/"
        },
        "outputId": "6e7b9e3d-87d3-47ca-fc76-f3f4e2faba15"
      },
      "source": [
        "split_string = re.split(\"\\s\", text_to_search) #split the string at the whitespaces.\n",
        "print(split_string)"
      ],
      "execution_count": null,
      "outputs": [
        {
          "output_type": "stream",
          "text": [
            "['This', 'is', 'just', 'a', 'simple', 'line', 'of', 'text', 'abcdefghijklmnopqurtuvwxyz', 'abc', 'abcabcabc', 'abcabcabcabcabc', 'ABCDEFGHIJKLMNOPQRSTUVWXYZ', 'I', 'love', 'cats.', '.com', '1234567890', 'La', 'LaLa', '.', '^', '$', '*', '+', '?', '{', '}', '[', ']', '\\\\', '|', '(', ')', 'This', 'marks', 'the', 'end']\n"
          ],
          "name": "stdout"
        }
      ]
    },
    {
      "cell_type": "markdown",
      "metadata": {
        "id": "MQBYVKzjZNky"
      },
      "source": [
        "### Metacharacters\n",
        "These are characters that are interpreted in a special way by a RegEx engine."
      ]
    },
    {
      "cell_type": "markdown",
      "metadata": {
        "id": "NQevXLejZNkz"
      },
      "source": [
        "##### \\\\ - Escapes special characters or denotes character classes."
      ]
    },
    {
      "cell_type": "code",
      "metadata": {
        "id": "ma7XCgc2ZNk0",
        "colab": {
          "base_uri": "https://localhost:8080/"
        },
        "outputId": "0a814d9a-9d82-4dc0-b471-d6f4c0db4c89"
      },
      "source": [
        "periods = re.finditer(r\"\\.\",text_to_search)\n",
        "for period in periods:\n",
        "    print(period)\n"
      ],
      "execution_count": null,
      "outputs": [
        {
          "output_type": "stream",
          "text": [
            "<re.Match object; span=(130, 131), match='.'>\n",
            "<re.Match object; span=(132, 133), match='.'>\n",
            "<re.Match object; span=(156, 157), match='.'>\n"
          ],
          "name": "stdout"
        }
      ]
    },
    {
      "cell_type": "markdown",
      "metadata": {
        "id": "ezjv8th1ZNk1"
      },
      "source": [
        "##### . - Matches any character except line terminators like \\n (new line).\n"
      ]
    },
    {
      "cell_type": "code",
      "metadata": {
        "id": "AWn6qCLhZNk2",
        "colab": {
          "base_uri": "https://localhost:8080/"
        },
        "outputId": "ea129c8e-e54c-40d9-9372-b53ade155e14"
      },
      "source": [
        "period_char = re.findall(r\".\",text_to_search)\n",
        "print(period_char)\n"
      ],
      "execution_count": null,
      "outputs": [
        {
          "output_type": "stream",
          "text": [
            "['T', 'h', 'i', 's', ' ', 'i', 's', ' ', 'j', 'u', 's', 't', ' ', 'a', ' ', 's', 'i', 'm', 'p', 'l', 'e', ' ', 'l', 'i', 'n', 'e', ' ', 'o', 'f', ' ', 't', 'e', 'x', 't', 'a', 'b', 'c', 'd', 'e', 'f', 'g', 'h', 'i', 'j', 'k', 'l', 'm', 'n', 'o', 'p', 'q', 'u', 'r', 't', 'u', 'v', 'w', 'x', 'y', 'z', 'a', 'b', 'c', 'a', 'b', 'c', 'a', 'b', 'c', 'a', 'b', 'c', 'a', 'b', 'c', 'a', 'b', 'c', 'a', 'b', 'c', 'a', 'b', 'c', 'a', 'b', 'c', 'A', 'B', 'C', 'D', 'E', 'F', 'G', 'H', 'I', 'J', 'K', 'L', 'M', 'N', 'O', 'P', 'Q', 'R', 'S', 'T', 'U', 'V', 'W', 'X', 'Y', 'Z', 'I', ' ', 'l', 'o', 'v', 'e', ' ', 'c', 'a', 't', 's', '.', '.', 'c', 'o', 'm', '1', '2', '3', '4', '5', '6', '7', '8', '9', '0', 'L', 'a', ' ', 'L', 'a', 'L', 'a', '.', ' ', '^', ' ', '$', ' ', '*', ' ', '+', ' ', '?', ' ', '{', ' ', '}', ' ', '[', ' ', ']', ' ', '\\\\', ' ', '|', ' ', '(', ' ', ')', 'T', 'h', 'i', 's', ' ', 'm', 'a', 'r', 'k', 's', ' ', 't', 'h', 'e', ' ', 'e', 'n', 'd']\n"
          ],
          "name": "stdout"
        }
      ]
    },
    {
      "cell_type": "markdown",
      "metadata": {
        "id": "ETJH734HZNk3"
      },
      "source": [
        "##### ^ - Matches the literal at the start of a string.  Checks if a string starts with a certain character."
      ]
    },
    {
      "cell_type": "code",
      "metadata": {
        "id": "9TtWB9A6ZNk3",
        "colab": {
          "base_uri": "https://localhost:8080/"
        },
        "outputId": "da56e597-eb84-4c25-b9af-99eb50167659"
      },
      "source": [
        "start_string = re.search(r\"^This\", text_to_search)\n",
        "print (start_string)"
      ],
      "execution_count": null,
      "outputs": [
        {
          "output_type": "stream",
          "text": [
            "<re.Match object; span=(0, 4), match='This'>\n"
          ],
          "name": "stdout"
        }
      ]
    },
    {
      "cell_type": "markdown",
      "metadata": {
        "id": "QVinegDMZNk4"
      },
      "source": [
        "##### \\$ - Matches the literal at the end of a string. Checks if a string ends with a certain character."
      ]
    },
    {
      "cell_type": "code",
      "metadata": {
        "id": "OmC-y05DZNk5",
        "colab": {
          "base_uri": "https://localhost:8080/"
        },
        "outputId": "07294cf3-971d-40d3-9f6f-dd73a8caf472"
      },
      "source": [
        "end_string = re.search(\"end$\", text_to_search)\n",
        "print (end_string)"
      ],
      "execution_count": null,
      "outputs": [
        {
          "output_type": "stream",
          "text": [
            "<re.Match object; span=(199, 202), match='end'>\n"
          ],
          "name": "stdout"
        }
      ]
    },
    {
      "cell_type": "code",
      "metadata": {
        "id": "ElxR7NzcZNk6",
        "colab": {
          "base_uri": "https://localhost:8080/"
        },
        "outputId": "c747f714-b15a-4582-c2df-f68ce90063c1"
      },
      "source": [
        "print(text_to_search)"
      ],
      "execution_count": null,
      "outputs": [
        {
          "output_type": "stream",
          "text": [
            "This is just a simple line of text\n",
            "abcdefghijklmnopqurtuvwxyz\n",
            "abc\n",
            "abcabcabc\n",
            "abcabcabcabcabc\n",
            "ABCDEFGHIJKLMNOPQRSTUVWXYZ\n",
            "I love cats.\n",
            ".com\n",
            "1234567890\n",
            "La LaLa\n",
            ". ^ $ * + ? { } [ ] \\ | ( )\n",
            "This marks the end\n"
          ],
          "name": "stdout"
        }
      ]
    },
    {
      "cell_type": "markdown",
      "metadata": {
        "id": "stogMAmOZNk7"
      },
      "source": [
        "##### ? - Matches zero or one occurrence of the pattern left to it."
      ]
    },
    {
      "cell_type": "code",
      "metadata": {
        "id": "FW9mH6rfZNk8",
        "colab": {
          "base_uri": "https://localhost:8080/"
        },
        "outputId": "80ed93dc-5d47-4d8c-d337-26ce3e169eaa"
      },
      "source": [
        "phrase = \"pan paan in Japan and paaan or pn is not a pun \"\n",
        "\n",
        "\n",
        "qmark_re = re.finditer(r\"pa?n\", phrase)\n",
        "for qmark in qmark_re:\n",
        "    print (qmark)\n",
        "\n",
        "print(len(phrase))\n"
      ],
      "execution_count": null,
      "outputs": [
        {
          "output_type": "stream",
          "text": [
            "<re.Match object; span=(0, 3), match='pan'>\n",
            "<re.Match object; span=(14, 17), match='pan'>\n",
            "<re.Match object; span=(31, 33), match='pn'>\n",
            "47\n"
          ],
          "name": "stdout"
        }
      ]
    },
    {
      "cell_type": "code",
      "metadata": {
        "id": "Yx2AAU2sZ-Te",
        "colab": {
          "base_uri": "https://localhost:8080/"
        },
        "outputId": "472b33c3-3949-49ac-a29c-03fbffbd2d50"
      },
      "source": [
        "split_phrase = re.split(\"\\s\", phrase) #split the string at the whitespaces.\n",
        "print(split_phrase)"
      ],
      "execution_count": null,
      "outputs": [
        {
          "output_type": "stream",
          "text": [
            "['pan', 'paan', 'in', 'Japan', 'and', 'paaan', 'or', 'pn', 'is', 'not', 'a', 'pun', '']\n"
          ],
          "name": "stdout"
        }
      ]
    },
    {
      "cell_type": "markdown",
      "metadata": {
        "id": "EzCmZIAUZNk_"
      },
      "source": [
        "##### * - Matches zero or more occurrences of the pattern left to it."
      ]
    },
    {
      "cell_type": "code",
      "metadata": {
        "id": "gvwSILDAZNlA",
        "colab": {
          "base_uri": "https://localhost:8080/"
        },
        "outputId": "f72cb410-6d98-4951-9835-807c18b5e09f"
      },
      "source": [
        "phrase = \"pan paan in Japan and paaan or pn is not a pun \"\n",
        "\n",
        "star_re = re.finditer(r\"pa*n\", phrase)\n",
        "for star in star_re:\n",
        "    print (star)"
      ],
      "execution_count": null,
      "outputs": [
        {
          "output_type": "stream",
          "text": [
            "<re.Match object; span=(0, 3), match='pan'>\n",
            "<re.Match object; span=(4, 8), match='paan'>\n",
            "<re.Match object; span=(14, 17), match='pan'>\n",
            "<re.Match object; span=(22, 27), match='paaan'>\n",
            "<re.Match object; span=(31, 33), match='pn'>\n"
          ],
          "name": "stdout"
        }
      ]
    },
    {
      "cell_type": "markdown",
      "metadata": {
        "id": "NkhG6tvLZNlC"
      },
      "source": [
        "##### + - Matches one or more occurrences of the pattern left to it."
      ]
    },
    {
      "cell_type": "code",
      "metadata": {
        "id": "tqoTmxldZNlD",
        "colab": {
          "base_uri": "https://localhost:8080/"
        },
        "outputId": "e40c3e2b-26f1-4928-c4b3-65eb91342f7a"
      },
      "source": [
        "phrase = \"pan paan in Japan and paaan or pn is not a pun \"\n",
        "\n",
        "plus_re = re.finditer(r\"pa+n\", phrase)\n",
        "for p in plus_re:\n",
        "    print (p)"
      ],
      "execution_count": null,
      "outputs": [
        {
          "output_type": "stream",
          "text": [
            "<re.Match object; span=(0, 3), match='pan'>\n",
            "<re.Match object; span=(4, 8), match='paan'>\n",
            "<re.Match object; span=(14, 17), match='pan'>\n",
            "<re.Match object; span=(22, 27), match='paaan'>\n"
          ],
          "name": "stdout"
        }
      ]
    },
    {
      "cell_type": "markdown",
      "metadata": {
        "id": "bn82Xtf-ZNlE"
      },
      "source": [
        "##### {} - Matches exactly the specified number of occurrences"
      ]
    },
    {
      "cell_type": "code",
      "metadata": {
        "id": "rUi6guiOZNlF",
        "colab": {
          "base_uri": "https://localhost:8080/"
        },
        "outputId": "b9061869-2b17-40db-9ca8-5184fe065618"
      },
      "source": [
        "alphabet = re.finditer(r\"(abc){5}\", text_to_search)\n",
        "for a in alphabet:\n",
        "    print (a)\n"
      ],
      "execution_count": null,
      "outputs": [
        {
          "output_type": "stream",
          "text": [
            "<re.Match object; span=(76, 91), match='abcabcabcabcabc'>\n"
          ],
          "name": "stdout"
        }
      ]
    },
    {
      "cell_type": "markdown",
      "metadata": {
        "id": "xPA2LQunZNlG"
      },
      "source": [
        "##### {n,} -Matches n or more occurrences of preceding expression"
      ]
    },
    {
      "cell_type": "code",
      "metadata": {
        "id": "JbS256POZNlH",
        "colab": {
          "base_uri": "https://localhost:8080/"
        },
        "outputId": "e0ce1b34-ffcb-4fef-ca9b-a55435f19de0"
      },
      "source": [
        "alphabet = re.finditer(r\"(abc){1,}\", text_to_search)\n",
        "for a in alphabet:\n",
        "    print (a)"
      ],
      "execution_count": null,
      "outputs": [
        {
          "output_type": "stream",
          "text": [
            "<re.Match object; span=(35, 38), match='abc'>\n",
            "<re.Match object; span=(62, 65), match='abc'>\n",
            "<re.Match object; span=(66, 75), match='abcabcabc'>\n",
            "<re.Match object; span=(76, 91), match='abcabcabcabcabc'>\n"
          ],
          "name": "stdout"
        }
      ]
    },
    {
      "cell_type": "markdown",
      "metadata": {
        "id": "D15m0a0xZNlI"
      },
      "source": [
        "##### {n, m} -Matches at least n and at most m occurrences of preceding expression"
      ]
    },
    {
      "cell_type": "code",
      "metadata": {
        "id": "AMPfiu7dZNlJ",
        "colab": {
          "base_uri": "https://localhost:8080/"
        },
        "outputId": "c972d12b-7011-4121-cf45-ea3a513ec9fa"
      },
      "source": [
        "alphabet = re.finditer(r\"(abc){2,4}\", text_to_search)\n",
        "for a in alphabet:\n",
        "    print (a)"
      ],
      "execution_count": null,
      "outputs": [
        {
          "output_type": "stream",
          "text": [
            "<re.Match object; span=(66, 75), match='abcabcabc'>\n",
            "<re.Match object; span=(76, 88), match='abcabcabcabc'>\n"
          ],
          "name": "stdout"
        }
      ]
    },
    {
      "cell_type": "markdown",
      "metadata": {
        "id": "EK54qRBIZNlK"
      },
      "source": [
        "##### | - (or operator). Matches either or"
      ]
    },
    {
      "cell_type": "code",
      "metadata": {
        "id": "7rVQdmVUZNlL",
        "colab": {
          "base_uri": "https://localhost:8080/"
        },
        "outputId": "c2633b9b-1148-47db-8469-2277fd8db37e"
      },
      "source": [
        "match_object = re.finditer((\"ABCD|abcd\"), text_to_search) #case sensitive\n",
        "for obj in match_object:\n",
        "    print (obj)"
      ],
      "execution_count": null,
      "outputs": [
        {
          "output_type": "stream",
          "text": [
            "<re.Match object; span=(35, 39), match='abcd'>\n",
            "<re.Match object; span=(92, 96), match='ABCD'>\n"
          ],
          "name": "stdout"
        }
      ]
    },
    {
      "cell_type": "markdown",
      "metadata": {
        "id": "L9TegM4ZZNlM"
      },
      "source": [
        "##### () - Used to capture and group sub-patterns"
      ]
    },
    {
      "cell_type": "markdown",
      "metadata": {
        "id": "q_lgKvh-ZNlN"
      },
      "source": [
        "###### \t[...] - Matches any single character in brackets."
      ]
    },
    {
      "cell_type": "markdown",
      "metadata": {
        "id": "GUT8TpjYZNlO"
      },
      "source": [
        "##### [^...] -Matches any single character not in brackets"
      ]
    },
    {
      "cell_type": "markdown",
      "metadata": {
        "id": "xby8pEAvZNlP"
      },
      "source": [
        "### Special Sequences\n",
        "\n",
        "Special sequences are denoted by a \\ followed by a specified character. They make commonly used patterns easier to write.        \n",
        "\n",
        "***It is advisable to use raw strings with special sequences.***"
      ]
    },
    {
      "cell_type": "code",
      "metadata": {
        "id": "KcfMVmH3ZNlR",
        "colab": {
          "base_uri": "https://localhost:8080/"
        },
        "outputId": "90f794f8-530b-41c9-ea6a-e89d72ab1a71"
      },
      "source": [
        "print (\"\\n \\t Newline\")\n",
        "print (r\"\\n \\t Newline\") #rawstring"
      ],
      "execution_count": null,
      "outputs": [
        {
          "output_type": "stream",
          "text": [
            "\n",
            " \t Newline\n",
            "\\n \\t Newline\n"
          ],
          "name": "stdout"
        }
      ]
    },
    {
      "cell_type": "markdown",
      "metadata": {
        "id": "WX6xJQtkZNlS"
      },
      "source": [
        "##### \\\\w - Matches alphanumeric characters. *includes _*"
      ]
    },
    {
      "cell_type": "code",
      "metadata": {
        "id": "sUBAK732ZNlT",
        "colab": {
          "base_uri": "https://localhost:8080/"
        },
        "outputId": "5696d7cb-c5b6-43a9-d335-2a4f8011b705"
      },
      "source": [
        "alphanumeric = re.findall(\"\\w\", text_to_search)\n",
        "print(alphanumeric)"
      ],
      "execution_count": null,
      "outputs": [
        {
          "output_type": "stream",
          "text": [
            "['T', 'h', 'i', 's', 'i', 's', 'j', 'u', 's', 't', 'a', 's', 'i', 'm', 'p', 'l', 'e', 'l', 'i', 'n', 'e', 'o', 'f', 't', 'e', 'x', 't', 'a', 'b', 'c', 'd', 'e', 'f', 'g', 'h', 'i', 'j', 'k', 'l', 'm', 'n', 'o', 'p', 'q', 'u', 'r', 't', 'u', 'v', 'w', 'x', 'y', 'z', 'a', 'b', 'c', 'a', 'b', 'c', 'a', 'b', 'c', 'a', 'b', 'c', 'a', 'b', 'c', 'a', 'b', 'c', 'a', 'b', 'c', 'a', 'b', 'c', 'a', 'b', 'c', 'A', 'B', 'C', 'D', 'E', 'F', 'G', 'H', 'I', 'J', 'K', 'L', 'M', 'N', 'O', 'P', 'Q', 'R', 'S', 'T', 'U', 'V', 'W', 'X', 'Y', 'Z', 'I', 'l', 'o', 'v', 'e', 'c', 'a', 't', 's', 'c', 'o', 'm', '1', '2', '3', '4', '5', '6', '7', '8', '9', '0', 'L', 'a', 'L', 'a', 'L', 'a', 'T', 'h', 'i', 's', 'm', 'a', 'r', 'k', 's', 't', 'h', 'e', 'e', 'n', 'd']\n"
          ],
          "name": "stdout"
        }
      ]
    },
    {
      "cell_type": "markdown",
      "metadata": {
        "id": "Tx6bEAfKZNlU"
      },
      "source": [
        "##### \\\\d  - Matches digits, which means 0-9."
      ]
    },
    {
      "cell_type": "code",
      "metadata": {
        "id": "KUz8ZQoFZNlV",
        "colab": {
          "base_uri": "https://localhost:8080/"
        },
        "outputId": "bf5a7c83-b34f-44a9-a2ad-44e6a63f6fa3"
      },
      "source": [
        "digits = re.findall(\"\\d\", text_to_search)\n",
        "print(digits)"
      ],
      "execution_count": null,
      "outputs": [
        {
          "output_type": "stream",
          "text": [
            "['1', '2', '3', '4', '5', '6', '7', '8', '9', '0']\n"
          ],
          "name": "stdout"
        }
      ]
    },
    {
      "cell_type": "markdown",
      "metadata": {
        "id": "bUKi9d1KZNlW"
      },
      "source": [
        "### \\\\s - Matches whitespace characters."
      ]
    },
    {
      "cell_type": "code",
      "metadata": {
        "id": "JwKVzfKPZNlX",
        "colab": {
          "base_uri": "https://localhost:8080/"
        },
        "outputId": "cfbbe504-c952-4d19-bc03-a5119810876e"
      },
      "source": [
        "whitespaces = re.finditer(\"\\s\", text_to_search)\n",
        "for whitespace in whitespaces:\n",
        "    print(whitespace)"
      ],
      "execution_count": null,
      "outputs": [
        {
          "output_type": "stream",
          "text": [
            "<re.Match object; span=(4, 5), match=' '>\n",
            "<re.Match object; span=(7, 8), match=' '>\n",
            "<re.Match object; span=(12, 13), match=' '>\n",
            "<re.Match object; span=(14, 15), match=' '>\n",
            "<re.Match object; span=(21, 22), match=' '>\n",
            "<re.Match object; span=(26, 27), match=' '>\n",
            "<re.Match object; span=(29, 30), match=' '>\n",
            "<re.Match object; span=(34, 35), match='\\n'>\n",
            "<re.Match object; span=(61, 62), match='\\n'>\n",
            "<re.Match object; span=(65, 66), match='\\n'>\n",
            "<re.Match object; span=(75, 76), match='\\n'>\n",
            "<re.Match object; span=(91, 92), match='\\n'>\n",
            "<re.Match object; span=(118, 119), match='\\n'>\n",
            "<re.Match object; span=(120, 121), match=' '>\n",
            "<re.Match object; span=(125, 126), match=' '>\n",
            "<re.Match object; span=(131, 132), match='\\n'>\n",
            "<re.Match object; span=(136, 137), match='\\n'>\n",
            "<re.Match object; span=(147, 148), match='\\n'>\n",
            "<re.Match object; span=(150, 151), match=' '>\n",
            "<re.Match object; span=(155, 156), match='\\n'>\n",
            "<re.Match object; span=(157, 158), match=' '>\n",
            "<re.Match object; span=(159, 160), match=' '>\n",
            "<re.Match object; span=(161, 162), match=' '>\n",
            "<re.Match object; span=(163, 164), match=' '>\n",
            "<re.Match object; span=(165, 166), match=' '>\n",
            "<re.Match object; span=(167, 168), match=' '>\n",
            "<re.Match object; span=(169, 170), match=' '>\n",
            "<re.Match object; span=(171, 172), match=' '>\n",
            "<re.Match object; span=(173, 174), match=' '>\n",
            "<re.Match object; span=(175, 176), match=' '>\n",
            "<re.Match object; span=(177, 178), match=' '>\n",
            "<re.Match object; span=(179, 180), match=' '>\n",
            "<re.Match object; span=(181, 182), match=' '>\n",
            "<re.Match object; span=(183, 184), match='\\n'>\n",
            "<re.Match object; span=(188, 189), match=' '>\n",
            "<re.Match object; span=(194, 195), match=' '>\n",
            "<re.Match object; span=(198, 199), match=' '>\n"
          ],
          "name": "stdout"
        }
      ]
    },
    {
      "cell_type": "code",
      "metadata": {
        "id": "KX7QJX6Zbeq4",
        "colab": {
          "base_uri": "https://localhost:8080/"
        },
        "outputId": "13defccc-4592-4e98-f82f-312a46adc008"
      },
      "source": [
        "print(text_to_search)"
      ],
      "execution_count": null,
      "outputs": [
        {
          "output_type": "stream",
          "text": [
            "This is just a simple line of text\n",
            "abcdefghijklmnopqurtuvwxyz\n",
            "abc\n",
            "abcabcabc\n",
            "abcabcabcabcabc\n",
            "ABCDEFGHIJKLMNOPQRSTUVWXYZ\n",
            "I love cats.\n",
            ".com\n",
            "1234567890\n",
            "La LaLa\n",
            ". ^ $ * + ? { } [ ] \\ | ( )\n",
            "This marks the end\n"
          ],
          "name": "stdout"
        }
      ]
    },
    {
      "cell_type": "markdown",
      "metadata": {
        "id": "Mfltesh-ZNlY"
      },
      "source": [
        "### \\\\b | Matches if there is a boundary (or empty string) at the start and end  therefore, mtches if the specified characters are at the beginning or end of a word"
      ]
    },
    {
      "cell_type": "code",
      "metadata": {
        "id": "yyrJV6o7ZNlZ",
        "colab": {
          "base_uri": "https://localhost:8080/"
        },
        "outputId": "068b8d03-5530-4e03-b7a9-2faa296b5031"
      },
      "source": [
        "words = re.finditer(r\"\\bLa\",text_to_search)\n",
        "for word in words:\n",
        "    print(word)"
      ],
      "execution_count": null,
      "outputs": [
        {
          "output_type": "stream",
          "text": [
            "<re.Match object; span=(148, 150), match='La'>\n",
            "<re.Match object; span=(151, 153), match='La'>\n"
          ],
          "name": "stdout"
        }
      ]
    },
    {
      "cell_type": "markdown",
      "metadata": {
        "id": "rAR2mByTZNla"
      },
      "source": [
        "***The characters in uppercase do the opposite.***"
      ]
    },
    {
      "cell_type": "markdown",
      "metadata": {
        "id": "fyxtvy4XZNla"
      },
      "source": [
        "### Practical Examples\n",
        "In this examples we shall be retrieving information from a text file *contacts.txt*.            \n",
        "***Disclaimer:*** All the names and contacts are not real. (generated using the Faker library)"
      ]
    },
    {
      "cell_type": "markdown",
      "metadata": {
        "id": "B3O2QrgCZNlb"
      },
      "source": [
        "#####  \tGetting the phone numbers."
      ]
    },
    {
      "cell_type": "code",
      "metadata": {
        "id": "YMpuqvG8ZNld",
        "colab": {
          "base_uri": "https://localhost:8080/"
        },
        "outputId": "be0e2d0a-800e-4121-98b4-e6040ff313dc"
      },
      "source": [
        "with open (\"contacts.txt\") as f:\n",
        "    #print phonenumbers from Kenya\n",
        "    phonenumbers = re.findall(r\"[+]?254\\d{9}|07\\d{8}\", f.read())\n",
        "    print (f\"Kenyan phone numbers:{phonenumbers}\")\n",
        "     \n"
      ],
      "execution_count": null,
      "outputs": [
        {
          "output_type": "stream",
          "text": [
            "Kenyan phone numbers:['254745328975', '0721675429', '+254723432321']\n"
          ],
          "name": "stdout"
        }
      ]
    },
    {
      "cell_type": "code",
      "metadata": {
        "id": "VYdKJkxiZNle",
        "colab": {
          "base_uri": "https://localhost:8080/"
        },
        "outputId": "54a0f2a1-b540-44b0-c273-59023020701b"
      },
      "source": [
        " with open (\"contacts.txt\") as f:\n",
        "    #american numbers\n",
        "    numbers = re.findall(r\"[+]?1?-?[(]?\\d{3}[).-]\\d{3}[.-]\\d{4}\", f.read())\n",
        "    print (\"American phone numbers:\")\n",
        "    for n in numbers:\n",
        "        print (n)"
      ],
      "execution_count": null,
      "outputs": [
        {
          "output_type": "stream",
          "text": [
            "American phone numbers:\n",
            "741.676.2796\n",
            "(972)245-1462\n",
            "746-718-5427\n",
            "+1-239-380-7394\n",
            "907-548-9426\n",
            "(449)494-7467\n",
            "710.762.9359\n",
            "(339)546-7970\n",
            "(865)215-8166\n",
            "123.555.1234\n",
            "817-555-1234\n",
            "(725)826-1520\n",
            "+1-338-411-7644\n",
            "364-070-8802\n",
            "(839)754-8681\n",
            "(826)493-4218\n"
          ],
          "name": "stdout"
        }
      ]
    },
    {
      "cell_type": "markdown",
      "metadata": {
        "id": "p0MllxT2ZNle"
      },
      "source": [
        "#### Printing names of proffessors."
      ]
    },
    {
      "cell_type": "code",
      "metadata": {
        "id": "hzAVQ7h1ZNlf",
        "colab": {
          "base_uri": "https://localhost:8080/"
        },
        "outputId": "e2090325-2f1c-4c77-b308-c720217ef901"
      },
      "source": [
        "with open (\"contacts.txt\") as f:\n",
        "    names = re.findall(r\"[Pp]rof.?\\s?[a-zA-Z]+\", f.read())\n",
        "    print(names)"
      ],
      "execution_count": null,
      "outputs": [
        {
          "output_type": "stream",
          "text": [
            "['profJohn', 'Prof.Angela', 'Prof. George', 'prof monica', 'Prof.Lucy', 'Prof. Casey', 'prof. Colleen']\n"
          ],
          "name": "stdout"
        }
      ]
    },
    {
      "cell_type": "markdown",
      "metadata": {
        "id": "jsXhB_PPZNlg"
      },
      "source": [
        "##### Getting the email addresses."
      ]
    },
    {
      "cell_type": "code",
      "metadata": {
        "id": "4Yk5qlyUZNlh",
        "colab": {
          "base_uri": "https://localhost:8080/"
        },
        "outputId": "d13a19f9-8f19-4392-ee93-ad52084b960b"
      },
      "source": [
        " with open (\"contacts.txt\") as f:\n",
        "    emails = re.findall(r\"[a-zA-Z0-9_-]+\\@[a-zA-Z-]+\\.[A-Za-z]{2,6}\", f.read())\n",
        "    for e in emails:\n",
        "     print (e)"
      ],
      "execution_count": null,
      "outputs": [
        {
          "output_type": "stream",
          "text": [
            "zthompson23@hotmail.com\n",
            "juliesullivan@hotmail.com\n",
            "robertgutierrez@cook.net\n",
            "tingram@yahoo.com\n",
            "kelly25@yahoo.com\n",
            "shawn01@johnson-mata.info\n",
            "kristi60@hotmail.com\n",
            "jamess-immons@hotmail.com\n",
            "chorn@washington-leonard.biz\n",
            "obonilla@gmail.com\n",
            "davisabigail@hotmail.com\n",
            "ypalmer@yahoo.com\n",
            "charles07@horn.com\n",
            "courtneyday@weaver-stanton.com\n",
            "g@IT.org\n",
            "ess_wambui@gmail.com\n",
            "lucy@yahoo.co\n",
            "j-l@gmail.edu\n",
            "d4l@hotmail.com\n",
            "12345@ymail.com\n",
            "cory88@gmail.com\n",
            "timothy94@anderson.com\n",
            "efields@potter.com\n",
            "steven06@gmail.com\n",
            "sandra_rodriguez@hotmail.com\n",
            "john12@bradley-gonzalez.org\n"
          ],
          "name": "stdout"
        }
      ]
    },
    {
      "cell_type": "code",
      "metadata": {
        "id": "QsUGv4jDZNlj"
      },
      "source": [
        "phrase_to_search = '''The quick brown fox jumped over the lazy dog\n",
        "                      Nairobi city an all tourist destination\n",
        "                      lets go to the city in the sun.\n",
        "                      It is also the capital city of Kenya.\n",
        "                      Nairobi has some of the best caffees in the face \n",
        "                      of the world\n",
        "                      acbacbdefghijekpps\n",
        "                      bbi imetupiliwa mbali na hiyo ndio raha yetu\n",
        "                      #$%&^*)({}[]:\"\n",
        "                      +254712393400\n",
        "                      7208971450\n",
        "                      i said bbi was overruled by the supreme court\n",
        "                      076802892\n",
        "                      +14786980012\n",
        "                      this marks the end of this string'''\n"
      ],
      "execution_count": null,
      "outputs": []
    },
    {
      "cell_type": "code",
      "metadata": {
        "id": "gJsdeq0legNz",
        "colab": {
          "base_uri": "https://localhost:8080/"
        },
        "outputId": "8925cb40-b893-4f82-c9a0-ccd088370f93"
      },
      "source": [
        "search_s1 = re.search('bbi', phrase_to_search)\n",
        "print(search_s1)\n",
        "print(len(phrase_to_search))"
      ],
      "execution_count": null,
      "outputs": [
        {
          "output_type": "stream",
          "text": [
            "<re.Match object; span=(391, 394), match='bbi'>\n",
            "732\n"
          ],
          "name": "stdout"
        }
      ]
    },
    {
      "cell_type": "code",
      "metadata": {
        "id": "ZfDC7ZvGe_uS",
        "colab": {
          "base_uri": "https://localhost:8080/"
        },
        "outputId": "7b56f8de-f00a-4426-d38d-94df7ee3ec21"
      },
      "source": [
        "findall_f1 = re.findall('bbi', phrase_to_search)\n",
        "print(findall_f1)\n",
        "#print(len(phrase_to_search))"
      ],
      "execution_count": null,
      "outputs": [
        {
          "output_type": "stream",
          "text": [
            "['bbi', 'bbi']\n"
          ],
          "name": "stdout"
        }
      ]
    },
    {
      "cell_type": "code",
      "metadata": {
        "id": "HsSxbktxfM6w",
        "colab": {
          "base_uri": "https://localhost:8080/"
        },
        "outputId": "d3310cb7-6ab5-443f-8b0f-54fed966f10f"
      },
      "source": [
        "finditer_f1 = re.finditer('bbi', phrase_to_search)\n",
        "for word in finditer_f1:\n",
        "  print(word)\n",
        "\n",
        "    \n",
        "#print(len(phrase_to_search))"
      ],
      "execution_count": null,
      "outputs": [
        {
          "output_type": "stream",
          "text": [
            "<re.Match object; span=(391, 394), match='bbi'>\n",
            "<re.Match object; span=(571, 574), match='bbi'>\n"
          ],
          "name": "stdout"
        }
      ]
    },
    {
      "cell_type": "code",
      "metadata": {
        "id": "ljJOPhMdfsHt"
      },
      "source": [
        "pattern_1 = re.compile(r\"Nairobi\")"
      ],
      "execution_count": null,
      "outputs": []
    },
    {
      "cell_type": "code",
      "metadata": {
        "id": "YQBGk9JkgHa1",
        "colab": {
          "base_uri": "https://localhost:8080/"
        },
        "outputId": "d8ec908a-24c7-479c-bf6d-91c3ba4ef2b1"
      },
      "source": [
        "city = pattern_1.findall(phrase_to_search)\n",
        "for c in city:\n",
        "  print(c)"
      ],
      "execution_count": null,
      "outputs": [
        {
          "output_type": "stream",
          "text": [
            "Nairobi\n",
            "Nairobi\n"
          ],
          "name": "stdout"
        }
      ]
    },
    {
      "cell_type": "code",
      "metadata": {
        "id": "Zoa6vWqJgmqh",
        "colab": {
          "base_uri": "https://localhost:8080/"
        },
        "outputId": "9ec8c791-6f55-4d96-fd63-a4dc6e1c832b"
      },
      "source": [
        "city = pattern_1.finditer(phrase_to_search)\n",
        "for c in city:\n",
        "  print(c)"
      ],
      "execution_count": null,
      "outputs": [
        {
          "output_type": "stream",
          "text": [
            "<re.Match object; span=(67, 74), match='Nairobi'>\n",
            "<re.Match object; span=(243, 250), match='Nairobi'>\n"
          ],
          "name": "stdout"
        }
      ]
    }
  ]
}